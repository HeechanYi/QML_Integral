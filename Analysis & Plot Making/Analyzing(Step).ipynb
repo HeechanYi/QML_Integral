{
 "cells": [
  {
   "cell_type": "code",
   "execution_count": 1,
   "id": "024402c1",
   "metadata": {},
   "outputs": [],
   "source": [
    "import pennylane as qml\n",
    "import pennylane.numpy as np\n",
    "\n",
    "from scipy.stats import mode\n",
    "from scipy.stats import wasserstein_distance\n",
    "\n",
    "import torch\n",
    "import torch.nn as nn\n",
    "\n",
    "import matplotlib.pyplot as plt\n",
    "\n",
    "from scipy.integrate import quad"
   ]
  },
  {
   "cell_type": "code",
   "execution_count": 2,
   "id": "4b023c7e",
   "metadata": {},
   "outputs": [],
   "source": [
    "torch_pi = torch.Tensor([np.pi])"
   ]
  },
  {
   "cell_type": "code",
   "execution_count": 3,
   "id": "6196f67b",
   "metadata": {},
   "outputs": [],
   "source": [
    "### Test function\n",
    "def Step_function(x, x_0 = 0):\n",
    "    return np.heaviside(x, x_0) - 0.5"
   ]
  },
  {
   "cell_type": "code",
   "execution_count": 4,
   "id": "8bf98728",
   "metadata": {},
   "outputs": [],
   "source": [
    "def derivative(y, t) : \n",
    "    return torch.autograd.grad(y, t, \n",
    "                               create_graph=True, \n",
    "                               grad_outputs=torch.ones(y.size()))[0]\n",
    "\n",
    "def integrate_numerical(func, start, end):\n",
    "    integral, _ = quad(func, start, end)\n",
    "    return integral"
   ]
  },
  {
   "cell_type": "code",
   "execution_count": 5,
   "id": "bf099d7c",
   "metadata": {},
   "outputs": [],
   "source": [
    "def R2_estimation(pred, num):\n",
    "    N = len(num)\n",
    "    sigma = np.var(num)\n",
    "    r2 = 1 - (1 / (N * sigma)) * np.sum(((pred - num) ** 2))\n",
    "    return r2\n",
    "\n",
    "def Mean_Relative_Error(I_pred, I_num):\n",
    "    mre = np.mean(np.abs((I_num - I_pred) / (I_num + 1e-8)))\n",
    "    return mre"
   ]
  },
  {
   "cell_type": "code",
   "execution_count": 6,
   "id": "c88da961",
   "metadata": {},
   "outputs": [],
   "source": [
    "### Pennylane Quantum Device ####################################\n",
    "dev_QNN = qml.device(\"default.qubit\", wires = 2)\n",
    "dev_QNN_noise = qml.device(\"default.mixed\", wires = 2)\n",
    "dev_QSP = qml.device(\"default.qubit\", wires = 4)\n",
    "dev_QSP_noise = qml.device(\"default.mixed\", wires = 4)\n",
    "dev_DQC1 = qml.device('default.qubit', wires = 3)\n",
    "dev_DQC1_noise = qml.device(\"default.mixed\", wires = 3)\n",
    "\n",
    "@qml.qnode(dev_QNN, interface='torch')\n",
    "def QNN_circuit(layers, x, theta):\n",
    "    i = 0\n",
    "\n",
    "    for _ in range(layers):\n",
    "        for q in range(2):\n",
    "            qml.RY(theta[i], wires = q)\n",
    "            qml.RZ(theta[i+1] * x, wires = q)\n",
    "            qml.RX(theta[i+2], wires = q)\n",
    "            i += 3\n",
    "        \n",
    "        qml.CZ(wires = [0, 1])\n",
    "\n",
    "    qml.RY(theta[-1], wires = 0)\n",
    "    qml.RY(theta[-2], wires = 1)\n",
    "\n",
    "    return qml.expval((qml.PauliZ(0)+qml.PauliZ(1))/2)\n",
    "\n",
    "### Quantum Circuit - BitFlip ####################################\n",
    "@qml.qnode(dev_QNN_noise, interface='torch')\n",
    "def QNN_circuit_BitFlip(layers, x, phi):\n",
    "    i = 0\n",
    "\n",
    "    for _ in range(layers):\n",
    "        for q in range(2):\n",
    "            qml.RY(phi[i], wires = q)\n",
    "            qml.RZ(phi[i+1] * x, wires = q)\n",
    "            qml.RX(phi[i+2], wires = q)\n",
    "            i += 3\n",
    "        \n",
    "        qml.CZ(wires = [0, 1])\n",
    "\n",
    "    qml.RY(phi[-1], wires = 0)\n",
    "    qml.RY(phi[-2], wires = 1)\n",
    "\n",
    "    qml.BitFlip(0.001, wires = 0)\n",
    "    qml.BitFlip(0.001, wires = 1)\n",
    "\n",
    "    return qml.expval((qml.PauliZ(0)+qml.PauliZ(1))/2)\n",
    "\n",
    "\n",
    "### Quantum Circuit - Depoloarizing ####################################\n",
    "@qml.qnode(dev_QNN_noise, interface='torch')\n",
    "def QNN_circuit_Depolarizing(layers, x, phi):\n",
    "    i = 0\n",
    "\n",
    "    for _ in range(layers):\n",
    "        for q in range(2):\n",
    "            qml.RY(phi[i], wires = q)\n",
    "            qml.RZ(phi[i+1] * x, wires = q)\n",
    "            qml.RX(phi[i+2], wires = q)\n",
    "            i += 3\n",
    "        \n",
    "        qml.CZ(wires = [0, 1])\n",
    "\n",
    "    qml.RY(phi[-1], wires = 0)\n",
    "    qml.RY(phi[-2], wires = 1)\n",
    "\n",
    "    qml.DepolarizingChannel(0.001, wires = 0)\n",
    "    qml.DepolarizingChannel(0.001, wires = 1)\n",
    "\n",
    "    return qml.expval((qml.PauliZ(0)+qml.PauliZ(1))/2)\n",
    "\n",
    "################################################################################################################################################\n",
    "### QSP Circuit ####################################\n",
    "@qml.qnode(dev_QSP, interface = 'torch')\n",
    "def QSP_circuit(layers, x, phi):\n",
    "    theta = -2 * torch.arccos(x)\n",
    "    \n",
    "    qml.Hadamard(wires = 0)\n",
    "    qml.Hadamard(wires = 1)\n",
    "    for i in range(layers):\n",
    "        qml.CRZ(phi[i], wires=[0,1])\n",
    "        qml.CRX(theta, wires=[0,1], id = \"SRO\")\n",
    "    qml.CRZ(phi[layers], wires=[0,1])  \n",
    "    qml.Hadamard(wires = 1)\n",
    "    qml.Hadamard(wires = 0)\n",
    "\n",
    "    qml.Hadamard(wires = 2)\n",
    "    qml.Hadamard(wires = 3)\n",
    "    for i in range(layers-1):\n",
    "        qml.CRZ(phi[layers+1+i], wires=[2,3])\n",
    "        qml.CRX(theta, wires=[2,3], id = \"SRO\")\n",
    "    qml.CRZ(phi[-1], wires=[2,3])  \n",
    "    qml.Hadamard(wires = 3)\n",
    "    qml.Hadamard(wires = 2)\n",
    "\n",
    "    return qml.expval((qml.PauliZ(0)+qml.PauliZ(2))/2)\n",
    "\n",
    "### QSP Circuit - BitFlip ####################################\n",
    "@qml.qnode(dev_QSP_noise, interface = 'torch')\n",
    "def QSP_circuit_BitFlip(layers, x, phi):\n",
    "    theta = -2 * torch.arccos(x)\n",
    "    \n",
    "    qml.Hadamard(wires = 0)\n",
    "    qml.Hadamard(wires = 1)\n",
    "    for i in range(layers):\n",
    "        qml.CRZ(phi[i], wires=[0,1])\n",
    "        qml.CRX(theta, wires=[0,1], id = \"SRO\")\n",
    "    qml.CRZ(phi[layers], wires=[0,1])  \n",
    "    qml.Hadamard(wires = 1)\n",
    "    qml.Hadamard(wires = 0)\n",
    "\n",
    "    qml.Hadamard(wires = 2)\n",
    "    qml.Hadamard(wires = 3)\n",
    "    for i in range(layers-1):\n",
    "        qml.CRZ(phi[layers+1+i], wires=[2,3])\n",
    "        qml.CRX(theta, wires=[2,3], id = \"SRO\")\n",
    "    qml.CRZ(phi[-1], wires=[2,3])  \n",
    "    qml.Hadamard(wires = 3)\n",
    "    qml.Hadamard(wires = 2)\n",
    "\n",
    "    qml.BitFlip(0.001, wires = 0)\n",
    "    qml.BitFlip(0.001, wires = 2)\n",
    "\n",
    "    return qml.expval((qml.PauliZ(0)+qml.PauliZ(2))/2)\n",
    "\n",
    "### QSP Circuit - Depolarizing ####################################\n",
    "@qml.qnode(dev_QSP_noise, interface = 'torch')\n",
    "def QSP_circuit_Depolarizing(layers, x, phi):\n",
    "    theta = -2 * torch.arccos(x)\n",
    "    \n",
    "    qml.Hadamard(wires = 0)\n",
    "    qml.Hadamard(wires = 1)\n",
    "    for i in range(layers):\n",
    "        qml.CRZ(phi[i], wires=[0,1])\n",
    "        qml.CRX(theta, wires=[0,1], id = \"SRO\")\n",
    "    qml.CRZ(phi[layers], wires=[0,1])  \n",
    "    qml.Hadamard(wires = 1)\n",
    "    qml.Hadamard(wires = 0)\n",
    "\n",
    "    qml.Hadamard(wires = 2)\n",
    "    qml.Hadamard(wires = 3)\n",
    "    for i in range(layers-1):\n",
    "        qml.CRZ(phi[layers+1+i], wires=[2,3])\n",
    "        qml.CRX(theta, wires=[2,3], id = \"SRO\")\n",
    "    qml.CRZ(phi[-1], wires=[2,3])  \n",
    "    qml.Hadamard(wires = 3)\n",
    "    qml.Hadamard(wires = 2)\n",
    "\n",
    "    qml.DepolarizingChannel(0.001, wires = 0)\n",
    "    qml.DepolarizingChannel(0.001, wires = 2)\n",
    "\n",
    "    return qml.expval((qml.PauliZ(0)+qml.PauliZ(2))/2)\n",
    "\n",
    "################################################################################################################################################\n",
    "def S(x, theta, wires):\n",
    "    qml.RX(theta[0]*x, wires = wires[0])\n",
    "    qml.RX(theta[1]*x, wires = wires[1])\n",
    "\n",
    "def W(phi, wires):\n",
    "    i = 0\n",
    "    for w in wires:\n",
    "        qml.RX(phi[i], wires = w) \n",
    "        qml.RY(phi[i+1], wires = w)\n",
    "        qml.RZ(phi[i+2], wires = w) \n",
    "        i += 3\n",
    "    \n",
    "    qml.CZ(wires = wires)\n",
    "\n",
    "def DQC1_Unit(layers, x, thetas, phis, wires):\n",
    "    i = 0\n",
    "\n",
    "    for _ in range(layers):\n",
    "        W(phis[i], wires)\n",
    "        S(x, thetas[i], wires)\n",
    "        i += 1\n",
    "    W(phis[i], wires)\n",
    "\n",
    "### DQC1 Circuit ####################################\n",
    "@qml.qnode(dev_DQC1, interface = 'torch')\n",
    "def DQC1_circuit(layers, x, thetas, phis):\n",
    "    qml.Hadamard(0)\n",
    "\n",
    "    qml.ctrl(DQC1_Unit, 0)(layers, x, thetas, phis, [1,2])\n",
    "\n",
    "    return qml.expval(qml.PauliX(wires = 0))\n",
    "\n",
    "\n",
    "### DQC1 Circuit - Bit Flip ####################################\n",
    "@qml.qnode(dev_DQC1_noise, interface = 'torch')\n",
    "def DQC1_circuit_BitFlip(layers, x, thetas, phis):\n",
    "    qml.Hadamard(0)\n",
    "\n",
    "    qml.ctrl(DQC1_Unit, 0)(layers, x, thetas, phis, [1,2])\n",
    "\n",
    "    qml.BitFlip(0.001, wires = 0)\n",
    "\n",
    "    return qml.expval(qml.PauliX(wires = 0))\n",
    "\n",
    "### DQC1 Circuit - Depolarizing ####################################\n",
    "@qml.qnode(dev_DQC1_noise, interface = 'torch')\n",
    "def DQC1_circuit_Depolarizing(layers, x, thetas, phis):\n",
    "    qml.Hadamard(0)\n",
    "\n",
    "    qml.ctrl(DQC1_Unit, 0)(layers, x, thetas, phis, [1,2])\n",
    "\n",
    "    qml.DepolarizingChannel(0.001, wires = 0)\n",
    "\n",
    "    return qml.expval(qml.PauliX(wires = 0))\n",
    "\n",
    "################################################################################################################################################\n",
    "### VQC 모델(QNN - Ideal) ####################################\n",
    "class QNN_Model(nn.Module):\n",
    "    def __init__(self, layers):\n",
    "        super().__init__()\n",
    "        self.theta = torch_pi * torch.rand(6 * layers + 2, requires_grad=True)\n",
    "        self.theta = nn.Parameter(self.theta)\n",
    "    \n",
    "        self.num_training_paramters = 6 * layers + 2\n",
    "        self.num_qubits = 2\n",
    "        self.num_layers = layers\n",
    "\n",
    "    def forward(self, data_point):\n",
    "        output = QNN_circuit(self.num_layers, data_point, self.theta)\n",
    "        return output\n",
    "    \n",
    "### VQC 모델(QNN - Gate Error) ####################################\n",
    "class QNN_Model_GateError(nn.Module):\n",
    "    def __init__(self, layers):\n",
    "        super().__init__()\n",
    "        self.theta = torch_pi * torch.rand(6 * layers + 2, requires_grad=True)\n",
    "        self.theta = nn.Parameter(self.theta)\n",
    "    \n",
    "        self.num_training_paramters = 6 * layers + 2\n",
    "        self.num_qubits = 2\n",
    "        self.num_layers = layers\n",
    "\n",
    "    def forward(self, data_point):\n",
    "        noise = torch.randn(len(self.theta))\n",
    "        noise_theta = self.theta + 0.001 * noise\n",
    "        output = QNN_circuit(self.num_layers, data_point, noise_theta)\n",
    "        return output\n",
    "\n",
    "### VQC 모델(QNN - BitFlip) ####################################\n",
    "class QNN_Model_BitFlip(nn.Module):\n",
    "    def __init__(self, layers):\n",
    "        super().__init__()\n",
    "        self.theta = torch_pi * torch.rand(6 * layers + 2, requires_grad=True)\n",
    "        self.theta = nn.Parameter(self.theta)\n",
    "    \n",
    "        self.num_training_paramters = 6 * layers + 2\n",
    "        self.num_qubits = 2\n",
    "        self.num_layers = layers\n",
    "\n",
    "    def forward(self, data_point):\n",
    "        outputs = torch.zeros_like(data_point)\n",
    "        for i, x in enumerate(data_point):\n",
    "            outputs[i] = QNN_circuit_BitFlip(self.num_layers, x, self.theta)\n",
    "        return outputs\n",
    "    \n",
    "\n",
    "### VQC 모델(QNN - Depolarizing) ####################################\n",
    "class QNN_Model_Depolarizing(nn.Module):\n",
    "    def __init__(self, layers):\n",
    "        super().__init__()\n",
    "        self.theta = torch_pi * torch.rand(6 * layers + 2, requires_grad=True)\n",
    "        self.theta = nn.Parameter(self.theta)\n",
    "    \n",
    "        self.num_training_paramters = 6 * layers + 2\n",
    "        self.num_qubits = 2\n",
    "        self.num_layers = layers\n",
    "\n",
    "    def forward(self, data_point):\n",
    "        outputs = torch.zeros_like(data_point)\n",
    "        for i, x in enumerate(data_point):\n",
    "            outputs[i] = QNN_circuit_Depolarizing(self.num_layers, x, self.theta)\n",
    "        return outputs\n",
    "\n",
    "################################################################################################################################################\n",
    "### VQC 모델(QSP - Ideal)  ####################################\n",
    "class QSP_Model(nn.Module):\n",
    "    def __init__(self, layers):\n",
    "        super().__init__()\n",
    "        self.theta = torch_pi * torch.rand(2 * layers + 1, requires_grad=True)\n",
    "        self.theta = nn.Parameter(self.theta)\n",
    "    \n",
    "        self.num_phi = 2 * layers + 1\n",
    "        self.num_qubits = 4\n",
    "        self.num_layers = layers\n",
    "\n",
    "    def forward(self, data_point):\n",
    "        \"\"\"PennyLane forward implementation\"\"\"\n",
    "        output = QSP_circuit(self.num_layers, data_point, self.theta)\n",
    "        return output\n",
    "    \n",
    "### VQC 모델(QSP - Gate Error)  ####################################\n",
    "class QSP_Model_GateError(nn.Module):\n",
    "    def __init__(self, layers):\n",
    "        super().__init__()\n",
    "        self.theta = torch_pi * torch.rand(2 * layers + 1, requires_grad=True)\n",
    "        self.theta = nn.Parameter(self.theta)\n",
    "    \n",
    "        self.num_training_parameters = 2 * layers + 1\n",
    "        self.num_qubits = 4\n",
    "        self.num_layers = layers\n",
    "\n",
    "    def forward(self, data_point):\n",
    "        noise = torch.randn(len(self.theta))\n",
    "        noise_theta = self.theta + 0.001 * noise\n",
    "        output = QSP_circuit(self.num_layers, data_point, noise_theta)\n",
    "        return output\n",
    "    \n",
    "### VQC 모델(QSP - BitFlip)  ####################################\n",
    "class QSP_Model_BitFlip(nn.Module):\n",
    "    def __init__(self, layers):\n",
    "        super().__init__()\n",
    "        self.theta = torch_pi * torch.rand(2 * layers + 1, requires_grad=True)\n",
    "        self.theta = nn.Parameter(self.theta)\n",
    "    \n",
    "        self.num_training_parameters = 2 * layers + 1\n",
    "        self.num_qubits = 4\n",
    "        self.num_layers = layers\n",
    "\n",
    "    def forward(self, data_point):\n",
    "        outputs = torch.zeros_like(data_point)\n",
    "        for i, x in enumerate(data_point):\n",
    "            outputs[i] = QSP_circuit_BitFlip(self.num_layers, x, self.theta)\n",
    "        return outputs\n",
    "    \n",
    "### VQC 모델(QSP - Depolarizing)  ####################################\n",
    "class QSP_Model_Depolarizing(nn.Module):\n",
    "    def __init__(self, layers):\n",
    "        super().__init__()\n",
    "        self.theta = torch_pi * torch.rand(2 * layers + 1, requires_grad=True)\n",
    "        self.theta = nn.Parameter(self.theta)\n",
    "    \n",
    "        self.num_training_parameters = 2 * layers + 1\n",
    "        self.num_qubits = 4\n",
    "        self.num_layers = layers\n",
    "\n",
    "    def forward(self, data_point):\n",
    "        outputs = torch.zeros_like(data_point)\n",
    "        for i, x in enumerate(data_point):\n",
    "            outputs[i] = QSP_circuit_Depolarizing(self.num_layers, x, self.theta)\n",
    "        return outputs\n",
    "    \n",
    "############################################################################################################\n",
    "### VQC 모델(DQC1 - Ideal)  ####################################\n",
    "class DQC1_Model(nn.Module):\n",
    "    def __init__(self, degree):\n",
    "        super().__init__()\n",
    "        self.phi = torch.rand((degree+1, 6), requires_grad=True)\n",
    "        self.theta = torch.rand((degree, 2) ,requires_grad = True)\n",
    "        self.phi = nn.Parameter(self.phi)\n",
    "        self.theta = nn.Parameter(self.theta)\n",
    "    \n",
    "        self.num_phi = 6 * degree + 6 + 2 * degree\n",
    "        self.num_qubits = 2\n",
    "        self.num_layers = degree\n",
    "\n",
    "    def forward(self, data_point):\n",
    "        output = DQC1_circuit(self.num_layers, data_point, self.theta, self.phi)\n",
    "        return output\n",
    "    \n",
    "### VQC 모델(DQC1 - Gate Error)  ####################################\n",
    "class DQC1_Model_GateError(nn.Module):\n",
    "    def __init__(self, degree):\n",
    "        super().__init__()\n",
    "        self.phi = torch.rand((degree+1, 6), requires_grad=True)\n",
    "        self.theta = torch.rand((degree, 2) ,requires_grad = True)\n",
    "        self.phi = nn.Parameter(self.phi)\n",
    "        self.theta = nn.Parameter(self.theta)\n",
    "    \n",
    "        self.num_phi = 6 * degree + 6 + 2 * degree\n",
    "        self.num_qubits = 2\n",
    "        self.num_layers = degree\n",
    "\n",
    "    def forward(self, data_point):\n",
    "        noise1 =torch.randn_like(self.phi)\n",
    "        noise2 = torch.randn_like(self.theta)\n",
    "        noise_phi = self.phi + 0.001 * noise1\n",
    "        noise_theta = self.theta + 0.001 * noise2\n",
    "        output = DQC1_circuit(self.num_layers, data_point, noise_theta, noise_phi)\n",
    "        return output\n",
    "    \n",
    "### VQC 모델(DQC1 - Bit Flip) ####################################\n",
    "class DQC1_Model_BitFlip(nn.Module):\n",
    "    def __init__(self, degree):\n",
    "        super().__init__()\n",
    "        self.phi = torch.rand((degree+1, 6), requires_grad=True)\n",
    "        self.theta = torch.rand((degree, 2) ,requires_grad = True)\n",
    "        self.phi = nn.Parameter(self.phi)\n",
    "        self.theta = nn.Parameter(self.theta)\n",
    "    \n",
    "        self.num_phi = 6 * degree + 6 + 2 * degree\n",
    "        self.num_qubits = 2\n",
    "        self.num_layers = degree\n",
    "\n",
    "    def forward(self, data_point):\n",
    "        outputs = torch.zeros_like(data_point)\n",
    "        for i, x in enumerate(data_point):\n",
    "            outputs[i] = DQC1_circuit_BitFlip(self.num_layers, x, self.theta, self.phi)\n",
    "        return outputs\n",
    "    \n",
    "### VQC 모델(DQC1 - Depolarizing) ####################################\n",
    "class DQC1_Model_Depolarizing(nn.Module):\n",
    "    def __init__(self, degree):\n",
    "        super().__init__()\n",
    "        self.phi = torch.rand((degree+1, 6), requires_grad=True)\n",
    "        self.theta = torch.rand((degree, 2) ,requires_grad = True)\n",
    "        self.phi = nn.Parameter(self.phi)\n",
    "        self.theta = nn.Parameter(self.theta)\n",
    "    \n",
    "        self.num_phi = 6 * degree + 6 + 2 * degree\n",
    "        self.num_qubits = 2\n",
    "        self.num_layers = degree\n",
    "\n",
    "    def forward(self, data_point):\n",
    "        outputs = torch.zeros_like(data_point)\n",
    "        for i, x in enumerate(data_point):\n",
    "            outputs[i] = DQC1_circuit_Depolarizing(self.num_layers, x, self.theta, self.phi)\n",
    "        return outputs"
   ]
  },
  {
   "cell_type": "code",
   "execution_count": 7,
   "id": "482a8018",
   "metadata": {},
   "outputs": [],
   "source": [
    "def load_model_environment(model, env, layers):\n",
    "    model_classes = {\n",
    "        \"QNN\": {\n",
    "            \"Ideal\": QNN_Model,\n",
    "            \"GateError\": QNN_Model_GateError,\n",
    "            \"BitFlip\": QNN_Model_BitFlip,\n",
    "            \"Depolarizing\": QNN_Model_Depolarizing,\n",
    "        },\n",
    "        \"QSP\": {\n",
    "            \"Ideal\": QSP_Model,\n",
    "            \"GateError\": QSP_Model_GateError,\n",
    "            \"BitFlip\": QSP_Model_BitFlip,\n",
    "            \"Depolarizing\": QSP_Model_Depolarizing,\n",
    "        },\n",
    "        \"DQC1\": {\n",
    "            \"Ideal\": DQC1_Model,\n",
    "            \"GateError\": DQC1_Model_GateError,\n",
    "            \"BitFlip\": DQC1_Model_BitFlip,\n",
    "            \"Depolarizing\": DQC1_Model_Depolarizing,\n",
    "        }\n",
    "    }\n",
    "\n",
    "    try:\n",
    "        model_class = model_classes[model][env]\n",
    "        return model_class(layers)\n",
    "    except KeyError:\n",
    "        raise ValueError(f\"Invalid model ({model}) or environment ({env}) specified.\")\n"
   ]
  },
  {
   "cell_type": "markdown",
   "id": "bd41c892",
   "metadata": {},
   "source": [
    "----"
   ]
  },
  {
   "cell_type": "code",
   "execution_count": 8,
   "id": "94917f1b",
   "metadata": {},
   "outputs": [
    {
     "name": "stdout",
     "output_type": "stream",
     "text": [
      "Results/DQC1/Ideal/Step/HMC/MSE_KL/0.005\n"
     ]
    }
   ],
   "source": [
    "model_type = 'DQC1'  # QNN / QSP / DQC1\n",
    "test_func = 'Step'    # CPF / Step / BW\n",
    "sample_type = 'HMC' # Uni / Imp / HMC\n",
    "loss_type = 'MSE_KL'   # MSE / Chisqr / Log_Cosh / MSE_KL\n",
    "env = 'Ideal'       # Ideal / GateErorr / BitFlip / Noise\n",
    "lr = 0.005          # 1e-05, 5e-05, 0.0001, 0.0005, 0.001, 0.005\n",
    "layers = 10\n",
    "\n",
    "path = f\"Results/{model_type}/{env}/{test_func}/{sample_type}/{loss_type}/{lr}\"\n",
    "print(path)"
   ]
  },
  {
   "cell_type": "code",
   "execution_count": 9,
   "id": "496d6b36",
   "metadata": {},
   "outputs": [],
   "source": [
    "QNN_model = load_model_environment(model_type, env, layers)\n",
    "QNN_model.load_state_dict(torch.load(f'./{path}/DQC1_Ideal_L10_N1000_1_958_e02.pt'))\n",
    "QNN_model.eval()\n",
    "\n",
    "def Integration_with_QNN(start, end):\n",
    "    init = QNN_model(start)\n",
    "    final = QNN_model(end)\n",
    "    return final - init"
   ]
  },
  {
   "cell_type": "markdown",
   "id": "9ad91ac4",
   "metadata": {},
   "source": [
    "### Test Function : Breit-Wigner Distribution\n",
    "----"
   ]
  },
  {
   "cell_type": "code",
   "execution_count": 10,
   "id": "b419f380",
   "metadata": {},
   "outputs": [],
   "source": [
    "samples = 100\n",
    "lower = -1\n",
    "upper = 1\n",
    "\n",
    "slin = np.linspace(lower, upper, samples)\n",
    "flin = Step_function(slin)\n",
    "f_scale = np.max(flin)\n",
    "xlin = slin\n",
    "ylin = flin / f_scale\n",
    "\n",
    "xlin = torch.tensor(xlin, requires_grad=True)\n",
    "Qx = QNN_model(xlin)\n",
    "dQdx = derivative(Qx, xlin)"
   ]
  },
  {
   "cell_type": "code",
   "execution_count": 11,
   "id": "1adec450",
   "metadata": {},
   "outputs": [
    {
     "data": {
      "text/plain": [
       "Text(50.097222222222214, 0.5, 'rel. error')"
      ]
     },
     "execution_count": 11,
     "metadata": {},
     "output_type": "execute_result"
    },
    {
     "data": {
      "image/png": "[encoded data removed]",
      "text/plain": [
       "<Figure size 700x500 with 2 Axes>"
      ]
     },
     "metadata": {},
     "output_type": "display_data"
    }
   ],
   "source": [
    "fig, (ax1, ax2) = plt.subplots(2, 1, figsize=(7.0, 5.0), \n",
    "                               gridspec_kw={'height_ratios': [3, 1]}, sharex=True)\n",
    "\n",
    "plt.subplots_adjust(hspace=0.15)\n",
    "plt.tight_layout()\n",
    "\n",
    "ax1.plot(xlin.detach().numpy(), ylin, color=\"#747678\", linestyle=\"--\", linewidth=2.5, alpha = .4, label=\"Target\")\n",
    "ax1.scatter(xlin.detach().numpy(), dQdx.detach().numpy(),  color = '#1f5189', s = 7, label=\"Diff. of QNN\")\n",
    "\n",
    "ax1.set_ylim(-1.5, 1.5)\n",
    "ax1.grid(True, color=\"lightgray\", linestyle=\"--\", linewidth=0.7)\n",
    "ax1.set_ylabel(\"f($s_{norm}$)\")\n",
    "ax1.set_title(f\"Training Result\")\n",
    "ax1.legend(loc=\"upper right\", fancybox=True, framealpha = 0.8)\n",
    "\n",
    "rel_error = np.abs((dQdx.detach().numpy() - ylin) / np.abs(ylin)) \n",
    "\n",
    "ax2.plot(xlin.detach().numpy(), rel_error, color = '#1f5189', linestyle=\"-\", linewidth=1, marker='o', markersize=2)\n",
    "\n",
    "ax2.set_yscale('log')\n",
    "ax2.set_ylim(1e-5, 1e3)\n",
    "ax2.grid(color=\"lightgray\", linestyle=\"--\", linewidth=0.7)\n",
    "ax2.set_xlabel(\"$x = s_{norm}$\")\n",
    "ax2.set_ylabel(\"rel. error\")"
   ]
  },
  {
   "cell_type": "code",
   "execution_count": 12,
   "id": "d3f17c8d",
   "metadata": {},
   "outputs": [
    {
     "name": "stdout",
     "output_type": "stream",
     "text": [
      "0.9844295423994944\n"
     ]
    }
   ],
   "source": [
    "r2 = R2_estimation(dQdx.detach().numpy()[1:-1], ylin[1:-1])\n",
    "print(r2)"
   ]
  },
  {
   "cell_type": "markdown",
   "id": "5f8c941c",
   "metadata": {},
   "source": [
    "----\n",
    "### Integral"
   ]
  },
  {
   "cell_type": "code",
   "execution_count": 13,
   "id": "d20bdf2a",
   "metadata": {},
   "outputs": [],
   "source": [
    "subintervals = 30\n",
    "step = (upper - lower) / subintervals\n",
    "s_init = np.linspace(lower, upper - step, subintervals, endpoint=True)\n",
    "s_end = np.linspace(lower + step, upper, subintervals, endpoint=True)\n",
    "x_init = s_init\n",
    "x_end = s_end\n",
    "\n",
    "x_init = torch.tensor(x_init)\n",
    "x_end = torch.tensor(x_end)\n",
    "\n",
    "int_pred = f_scale * np.array([Integration_with_QNN(x_init[i], x_end[i]).detach().numpy() for i in range(len(s_init))])\n",
    "int_num = np.array([integrate_numerical(Step_function, s_init[i], s_end[i]) for i in range(len(s_end))])"
   ]
  },
  {
   "cell_type": "code",
   "execution_count": 14,
   "id": "509b48a5",
   "metadata": {},
   "outputs": [
    {
     "data": {
      "text/plain": [
       "Text(50.097222222222214, 0.5, 'rel. error')"
      ]
     },
     "execution_count": 14,
     "metadata": {},
     "output_type": "execute_result"
    },
    {
     "data": {
      "image/png": "[encoded data removed]",
      "text/plain": [
       "<Figure size 700x500 with 2 Axes>"
      ]
     },
     "metadata": {},
     "output_type": "display_data"
    }
   ],
   "source": [
    "major_ticks = np.arange(lower, upper+step, 5*step)\n",
    "\n",
    "fig, (ax1, ax2) = plt.subplots(2, 1, figsize=(7.0, 5.0), \n",
    "                               gridspec_kw={'height_ratios': [3, 1]}, sharex=True)\n",
    "\n",
    "plt.subplots_adjust(hspace=0.15)\n",
    "plt.tight_layout()\n",
    "\n",
    "ax1.bar(s_init, int_num, align = 'edge', width = step, facecolor = \"#d4d4d5\", edgecolor =\"#d4d4d5\", fill = True, label = \"Num.\")\n",
    "ax1.bar(s_init, int_pred, align = 'edge',  width = step, edgecolor =\"#1f5189\", fill = False, linestyle = '--', lw = 2.5, label = \"QNN\")\n",
    "\n",
    "ax1.set_xticks(major_ticks)\n",
    "ax1.axhline(0, color=\"black\", linewidth=0.8)\n",
    "ax1.set_xlim(lower - 0.1, upper + 0.1) \n",
    "ax1.grid(color=\"lightgray\", linestyle=\"--\", linewidth=0.5)\n",
    "ax1.set_ylabel(\"$\\int_{-1}^s f(s')ds'$\", )\n",
    "ax1.set_title(f\"Calculation of Integrals({sample_type}, {loss_type})\")\n",
    "ax1.legend(loc=\"upper right\", framealpha = 0.7)\n",
    "\n",
    "rel_error = np.abs((int_num-int_pred) / int_num)\n",
    "\n",
    "ax2.plot(s_init+step/2, rel_error, color=\"#1f5189\", linestyle=\"-\", linewidth=1, marker='o', markersize=3, alpha=0.9)\n",
    "\n",
    "ax2.set_yscale('log')\n",
    "ax2.set_ylim(1e-5, 1e3)\n",
    "ax2.grid(color=\"lightgray\", linestyle=\"--\", linewidth=0.7)\n",
    "ax2.set_xlabel(\"$s$\")\n",
    "ax2.set_ylabel(\"rel. error\")"
   ]
  },
  {
   "cell_type": "code",
   "execution_count": 15,
   "id": "24f6e3a7",
   "metadata": {},
   "outputs": [
    {
     "name": "stdout",
     "output_type": "stream",
     "text": [
      "0.050961315665444366\n"
     ]
    }
   ],
   "source": [
    "mre = Mean_Relative_Error(int_pred, int_num)\n",
    "print(mre)"
   ]
  },
  {
   "cell_type": "code",
   "execution_count": 16,
   "id": "1459a14b",
   "metadata": {},
   "outputs": [],
   "source": [
    "J_true = np.cumsum(int_num)\n",
    "J_pred = np.cumsum(int_pred)\n",
    "J_true_norm = J_true / (np.max(np.abs(J_true)))\n",
    "J_pred_norm = J_pred / (np.max(np.abs(J_pred)))"
   ]
  },
  {
   "cell_type": "code",
   "execution_count": 17,
   "id": "0fab5aa5",
   "metadata": {},
   "outputs": [
    {
     "data": {
      "image/png": "[encoded data removed]",
      "text/plain": [
       "<Figure size 640x480 with 1 Axes>"
      ]
     },
     "metadata": {},
     "output_type": "display_data"
    }
   ],
   "source": [
    "plt.plot(s_init, J_true_norm, 'bo')\n",
    "plt.plot(s_init, J_pred_norm, 'rx')\n",
    "plt.grid()"
   ]
  },
  {
   "cell_type": "code",
   "execution_count": 18,
   "id": "fd3c2023",
   "metadata": {},
   "outputs": [
    {
     "data": {
      "text/plain": [
       "0.011512542356313524"
      ]
     },
     "execution_count": 18,
     "metadata": {},
     "output_type": "execute_result"
    }
   ],
   "source": [
    "wd = wasserstein_distance(J_true_norm, J_pred_norm)\n",
    "wd"
   ]
  },
  {
   "cell_type": "code",
   "execution_count": 19,
   "id": "65198373",
   "metadata": {},
   "outputs": [
    {
     "ename": "NameError",
     "evalue": "name 'stp' is not defined",
     "output_type": "error",
     "traceback": [
      "\u001b[0;31m---------------------------------------------------------------------------\u001b[0m",
      "\u001b[0;31mNameError\u001b[0m                                 Traceback (most recent call last)",
      "Cell \u001b[0;32mIn[19], line 1\u001b[0m\n\u001b[0;32m----> 1\u001b[0m \u001b[43mstp\u001b[49m\n",
      "\u001b[0;31mNameError\u001b[0m: name 'stp' is not defined"
     ]
    }
   ],
   "source": [
    "stp"
   ]
  },
  {
   "cell_type": "code",
   "execution_count": null,
   "id": "98067f2a",
   "metadata": {},
   "outputs": [],
   "source": [
    "print(path)"
   ]
  },
  {
   "cell_type": "code",
   "execution_count": 20,
   "id": "fbe3c061",
   "metadata": {},
   "outputs": [],
   "source": [
    "np.savez(f\"./{path}/Model_Prediction.npz\", xlin = xlin.detach().numpy(), target = ylin, dQdx = dQdx.detach().numpy(), slin = s_init, prediction = int_pred, integral = int_num, cum_idx = s_init, cum_true = J_true_norm, cum_pred = J_pred_norm)\n",
    "np.savez(f\"./{path}/Model_Estimation.npz\", diff_R2 = r2, int_mre = mre, int_Wd = wd)"
   ]
  },
  {
   "cell_type": "code",
   "execution_count": null,
   "id": "2b7a1111",
   "metadata": {},
   "outputs": [],
   "source": [
    "stp"
   ]
  },
  {
   "cell_type": "code",
   "execution_count": 21,
   "id": "96d8c150",
   "metadata": {},
   "outputs": [
    {
     "name": "stdout",
     "output_type": "stream",
     "text": [
      "Numeric(Scipy Quad): [0.25]\n",
      "QNN Model : 0.24174747250518538 0.0 ModeResult(mode=array([0.24174747]), count=array([100.]))\n",
      "Relative Error : [3.301011]\n"
     ]
    }
   ],
   "source": [
    "s_init = 0\n",
    "s_end = 0.5\n",
    "x_init = s_init\n",
    "x_end = s_end\n",
    "\n",
    "x_init = torch.tensor(x_init)\n",
    "x_end = torch.tensor(x_end)\n",
    "\n",
    "int_num = np.array([integrate_numerical(Step_function, s_init, s_end)])\n",
    "int_preds = []\n",
    "for _ in range(100):\n",
    "    int_pred = f_scale * np.array([Integration_with_QNN(x_init, x_end).detach().numpy()])\n",
    "    int_preds.append(int_pred)\n",
    "\n",
    "print(\"Numeric(Scipy Quad):\", int_num)\n",
    "print(\"QNN Model :\", np.mean(int_preds), np.std(int_preds), mode(int_preds))\n",
    "print(\"Relative Error :\", np.abs(int_num - int_pred) / int_num * 100)"
   ]
  },
  {
   "cell_type": "code",
   "execution_count": 22,
   "id": "16c06b37",
   "metadata": {},
   "outputs": [
    {
     "name": "stdout",
     "output_type": "stream",
     "text": [
      "Numeric(Scipy Quad): [-0.25]\n",
      "QNN Model : -0.24713044141886073 8.326672684688674e-17 ModeResult(mode=array([-0.24713044]), count=array([100.]))\n",
      "Relative Error : [1.14782343]\n"
     ]
    }
   ],
   "source": [
    "s_init = -0.5\n",
    "s_end = 0\n",
    "x_init = s_init\n",
    "x_end = s_end\n",
    "\n",
    "x_init = torch.tensor(x_init)\n",
    "x_end = torch.tensor(x_end)\n",
    "\n",
    "int_num = np.array([integrate_numerical(Step_function, s_init, s_end)])\n",
    "int_preds = []\n",
    "for _ in range(100):\n",
    "    int_pred = f_scale * np.array([Integration_with_QNN(x_init, x_end).detach().numpy()])\n",
    "    int_preds.append(int_pred)\n",
    "\n",
    "print(\"Numeric(Scipy Quad):\", int_num)\n",
    "print(\"QNN Model :\", np.mean(int_preds), np.std(int_preds), mode(int_preds))\n",
    "print(\"Relative Error :\", np.abs(int_num - int_pred) / np.abs(int_num) * 100)"
   ]
  },
  {
   "cell_type": "code",
   "execution_count": 23,
   "id": "05892006",
   "metadata": {},
   "outputs": [
    {
     "name": "stdout",
     "output_type": "stream",
     "text": [
      "Numeric(Scipy Quad): [0.]\n",
      "QNN Model : -0.005382968913675263 8.673617379884035e-19 ModeResult(mode=array([-0.00538297]), count=array([100.]))\n",
      "Relative Error : [inf]\n"
     ]
    },
    {
     "name": "stderr",
     "output_type": "stream",
     "text": [
      "/opt/miniconda3/envs/QML_Integral/lib/python3.11/site-packages/pennylane/numpy/tensor.py:155: RuntimeWarning: divide by zero encountered in divide\n",
      "  res = super().__array_ufunc__(ufunc, method, *args, **kwargs)\n"
     ]
    }
   ],
   "source": [
    "s_init = -0.5\n",
    "s_end = 0.5\n",
    "x_init = s_init\n",
    "x_end = s_end\n",
    "\n",
    "x_init = torch.tensor(x_init)\n",
    "x_end = torch.tensor(x_end)\n",
    "\n",
    "int_num = np.array([integrate_numerical(Step_function, s_init, s_end)])\n",
    "int_preds = []\n",
    "for _ in range(100):\n",
    "    int_pred = f_scale * np.array([Integration_with_QNN(x_init, x_end).detach().numpy()])\n",
    "    int_preds.append(int_pred)\n",
    "\n",
    "print(\"Numeric(Scipy Quad):\", int_num)\n",
    "print(\"QNN Model :\", np.mean(int_preds), np.std(int_preds), mode(int_preds))\n",
    "print(\"Relative Error :\", np.abs(int_num - int_pred) / int_num * 100)"
   ]
  },
  {
   "cell_type": "code",
   "execution_count": null,
   "id": "2a9c8155",
   "metadata": {},
   "outputs": [],
   "source": []
  }
 ],
 "metadata": {
  "kernelspec": {
   "display_name": "QML_Integral",
   "language": "python",
   "name": "python3"
  },
  "language_info": {
   "codemirror_mode": {
    "name": "ipython",
    "version": 3
   },
   "file_extension": ".py",
   "mimetype": "text/x-python",
   "name": "python",
   "nbconvert_exporter": "python",
   "pygments_lexer": "ipython3",
   "version": "3.11.12"
  }
 },
 "nbformat": 4,
 "nbformat_minor": 5
}
